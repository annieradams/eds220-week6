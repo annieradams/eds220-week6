{
 "cells": [
  {
   "cell_type": "markdown",
   "id": "96db015c-3b70-49b1-88f0-94ba475975bd",
   "metadata": {},
   "source": [
    "# `rioxarray`\n",
    "\n",
    "`rioxarray`:\n",
    "\n",
    "- is a Pythone extension for `xarray` to manipulate `xarray.DataArray` s as rasters\n",
    "- means *Raster input/output + xarray *\n",
    "\n",
    "## Data\n",
    "\n",
    "Raster files from the US national ag imagery program (NAIP)\n",
    "\n",
    "- high resolution aerial images from 2020 with four spectral bands: Red, Green, Blue, and Near infrared ( NIR)\n",
    "\n"
   ]
  },
  {
   "cell_type": "code",
   "execution_count": null,
   "id": "f122c072-178f-4692-8380-87c113ffb478",
   "metadata": {},
   "outputs": [],
   "source": [
    "## import .tif"
   ]
  }
 ],
 "metadata": {
  "kernelspec": {
   "display_name": "Anaconda 3 (Base)",
   "language": "python",
   "name": "base"
  },
  "language_info": {
   "codemirror_mode": {
    "name": "ipython",
    "version": 3
   },
   "file_extension": ".py",
   "mimetype": "text/x-python",
   "name": "python",
   "nbconvert_exporter": "python",
   "pygments_lexer": "ipython3",
   "version": "3.9.13"
  }
 },
 "nbformat": 4,
 "nbformat_minor": 5
}
